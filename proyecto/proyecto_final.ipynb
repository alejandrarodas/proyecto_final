{
 "cells": [
  {
   "cell_type": "markdown",
   "metadata": {},
   "source": [
    "# Proyecto final\n",
    "\n",
    "\n",
    "- Juan Carlos García #12002028\n",
    "- Alejandra Rodas #18013406"
   ]
  },
  {
   "cell_type": "markdown",
   "metadata": {},
   "source": [
    "## 1. Importación de librerías"
   ]
  },
  {
   "cell_type": "code",
   "execution_count": 2,
   "metadata": {},
   "outputs": [],
   "source": [
    "import numpy as np\n",
    "import pandas as pd\n",
    "import matplotlib.pyplot as plt\n",
    "from random import sample\n",
    "import seaborn as sns\n",
    "from sklearn.model_selection import train_test_split\n",
    "from sklearn.linear_model import LinearRegression\n",
    "from sklearn import metrics\n",
    "import math"
   ]
  },
  {
   "cell_type": "markdown",
   "metadata": {},
   "source": [
    "## 2. Carga y separación de datos"
   ]
  },
  {
   "cell_type": "code",
   "execution_count": 3,
   "metadata": {},
   "outputs": [],
   "source": [
    "data = np.load('./../proyecto_training_data.npy')"
   ]
  },
  {
   "cell_type": "code",
   "execution_count": 4,
   "metadata": {
    "scrolled": true
   },
   "outputs": [
    {
     "data": {
      "text/html": [
       "<div>\n",
       "<style scoped>\n",
       "    .dataframe tbody tr th:only-of-type {\n",
       "        vertical-align: middle;\n",
       "    }\n",
       "\n",
       "    .dataframe tbody tr th {\n",
       "        vertical-align: top;\n",
       "    }\n",
       "\n",
       "    .dataframe thead th {\n",
       "        text-align: right;\n",
       "    }\n",
       "</style>\n",
       "<table border=\"1\" class=\"dataframe\">\n",
       "  <thead>\n",
       "    <tr style=\"text-align: right;\">\n",
       "      <th></th>\n",
       "      <th>SalePrice</th>\n",
       "      <th>OverallQual</th>\n",
       "      <th>1stFlrSF</th>\n",
       "      <th>TotRmsAbvGrd</th>\n",
       "      <th>YearBuilt</th>\n",
       "      <th>LotFrontage</th>\n",
       "    </tr>\n",
       "  </thead>\n",
       "  <tbody>\n",
       "    <tr>\n",
       "      <th>0</th>\n",
       "      <td>208500.0</td>\n",
       "      <td>7.0</td>\n",
       "      <td>856.0</td>\n",
       "      <td>8.0</td>\n",
       "      <td>2003.0</td>\n",
       "      <td>65.0</td>\n",
       "    </tr>\n",
       "    <tr>\n",
       "      <th>1</th>\n",
       "      <td>181500.0</td>\n",
       "      <td>6.0</td>\n",
       "      <td>1262.0</td>\n",
       "      <td>6.0</td>\n",
       "      <td>1976.0</td>\n",
       "      <td>80.0</td>\n",
       "    </tr>\n",
       "    <tr>\n",
       "      <th>2</th>\n",
       "      <td>223500.0</td>\n",
       "      <td>7.0</td>\n",
       "      <td>920.0</td>\n",
       "      <td>6.0</td>\n",
       "      <td>2001.0</td>\n",
       "      <td>68.0</td>\n",
       "    </tr>\n",
       "    <tr>\n",
       "      <th>3</th>\n",
       "      <td>140000.0</td>\n",
       "      <td>7.0</td>\n",
       "      <td>961.0</td>\n",
       "      <td>7.0</td>\n",
       "      <td>1915.0</td>\n",
       "      <td>60.0</td>\n",
       "    </tr>\n",
       "    <tr>\n",
       "      <th>4</th>\n",
       "      <td>250000.0</td>\n",
       "      <td>8.0</td>\n",
       "      <td>1145.0</td>\n",
       "      <td>9.0</td>\n",
       "      <td>2000.0</td>\n",
       "      <td>84.0</td>\n",
       "    </tr>\n",
       "    <tr>\n",
       "      <th>...</th>\n",
       "      <td>...</td>\n",
       "      <td>...</td>\n",
       "      <td>...</td>\n",
       "      <td>...</td>\n",
       "      <td>...</td>\n",
       "      <td>...</td>\n",
       "    </tr>\n",
       "    <tr>\n",
       "      <th>1455</th>\n",
       "      <td>175000.0</td>\n",
       "      <td>6.0</td>\n",
       "      <td>953.0</td>\n",
       "      <td>7.0</td>\n",
       "      <td>1999.0</td>\n",
       "      <td>62.0</td>\n",
       "    </tr>\n",
       "    <tr>\n",
       "      <th>1456</th>\n",
       "      <td>210000.0</td>\n",
       "      <td>6.0</td>\n",
       "      <td>2073.0</td>\n",
       "      <td>7.0</td>\n",
       "      <td>1978.0</td>\n",
       "      <td>85.0</td>\n",
       "    </tr>\n",
       "    <tr>\n",
       "      <th>1457</th>\n",
       "      <td>266500.0</td>\n",
       "      <td>7.0</td>\n",
       "      <td>1188.0</td>\n",
       "      <td>9.0</td>\n",
       "      <td>1941.0</td>\n",
       "      <td>66.0</td>\n",
       "    </tr>\n",
       "    <tr>\n",
       "      <th>1458</th>\n",
       "      <td>142125.0</td>\n",
       "      <td>5.0</td>\n",
       "      <td>1078.0</td>\n",
       "      <td>5.0</td>\n",
       "      <td>1950.0</td>\n",
       "      <td>68.0</td>\n",
       "    </tr>\n",
       "    <tr>\n",
       "      <th>1459</th>\n",
       "      <td>147500.0</td>\n",
       "      <td>5.0</td>\n",
       "      <td>1256.0</td>\n",
       "      <td>6.0</td>\n",
       "      <td>1965.0</td>\n",
       "      <td>75.0</td>\n",
       "    </tr>\n",
       "  </tbody>\n",
       "</table>\n",
       "<p>1460 rows × 6 columns</p>\n",
       "</div>"
      ],
      "text/plain": [
       "      SalePrice  OverallQual  1stFlrSF  TotRmsAbvGrd  YearBuilt  LotFrontage\n",
       "0      208500.0          7.0     856.0           8.0     2003.0         65.0\n",
       "1      181500.0          6.0    1262.0           6.0     1976.0         80.0\n",
       "2      223500.0          7.0     920.0           6.0     2001.0         68.0\n",
       "3      140000.0          7.0     961.0           7.0     1915.0         60.0\n",
       "4      250000.0          8.0    1145.0           9.0     2000.0         84.0\n",
       "...         ...          ...       ...           ...        ...          ...\n",
       "1455   175000.0          6.0     953.0           7.0     1999.0         62.0\n",
       "1456   210000.0          6.0    2073.0           7.0     1978.0         85.0\n",
       "1457   266500.0          7.0    1188.0           9.0     1941.0         66.0\n",
       "1458   142125.0          5.0    1078.0           5.0     1950.0         68.0\n",
       "1459   147500.0          5.0    1256.0           6.0     1965.0         75.0\n",
       "\n",
       "[1460 rows x 6 columns]"
      ]
     },
     "execution_count": 4,
     "metadata": {},
     "output_type": "execute_result"
    }
   ],
   "source": [
    "dataset = pd.DataFrame(data, columns = ['SalePrice', 'OverallQual', '1stFlrSF', 'TotRmsAbvGrd', 'YearBuilt', 'LotFrontage'])\n",
    "dataset"
   ]
  },
  {
   "cell_type": "code",
   "execution_count": 5,
   "metadata": {},
   "outputs": [
    {
     "name": "stdout",
     "output_type": "stream",
     "text": [
      "1460  - 100%\n",
      "1168.0  - 80%\n",
      "292.0  - 20%\n",
      "      SalePrice  OverallQual  1stFlrSF  TotRmsAbvGrd  YearBuilt  LotFrontage\n",
      "0      208500.0          7.0     856.0           8.0     2003.0         65.0\n",
      "1      181500.0          6.0    1262.0           6.0     1976.0         80.0\n",
      "2      223500.0          7.0     920.0           6.0     2001.0         68.0\n",
      "3      140000.0          7.0     961.0           7.0     1915.0         60.0\n",
      "4      250000.0          8.0    1145.0           9.0     2000.0         84.0\n",
      "...         ...          ...       ...           ...        ...          ...\n",
      "1163   108959.0          4.0    1258.0           6.0     1969.0         60.0\n",
      "1164   194000.0          5.0    1432.0           5.0     1978.0          NaN\n",
      "1165   233170.0          7.0    1502.0           7.0     2009.0         79.0\n",
      "1166   245350.0          8.0    1694.0           7.0     2008.0         64.0\n",
      "1167   173000.0          6.0     959.0           7.0     2000.0         58.0\n",
      "\n",
      "[1168 rows x 6 columns]\n",
      "      SalePrice  OverallQual  1stFlrSF  TotRmsAbvGrd  YearBuilt  LotFrontage\n",
      "1168   235000.0          6.0    1236.0           7.0     1935.0        120.0\n",
      "1169   625000.0         10.0    1831.0          10.0     1995.0        118.0\n",
      "1170   171000.0          6.0    1118.0           6.0     1977.0         76.0\n",
      "1171   163000.0          6.0    1261.0           6.0     1958.0         76.0\n",
      "1172   171900.0          7.0     625.0           5.0     2006.0         35.0\n",
      "...         ...          ...       ...           ...        ...          ...\n",
      "1455   175000.0          6.0     953.0           7.0     1999.0         62.0\n",
      "1456   210000.0          6.0    2073.0           7.0     1978.0         85.0\n",
      "1457   266500.0          7.0    1188.0           9.0     1941.0         66.0\n",
      "1458   142125.0          5.0    1078.0           5.0     1950.0         68.0\n",
      "1459   147500.0          5.0    1256.0           6.0     1965.0         75.0\n",
      "\n",
      "[292 rows x 6 columns]\n"
     ]
    }
   ],
   "source": [
    "\n",
    "dataLen = dataset.shape[0]\n",
    "print(dataLen , \" - 100%\")\n",
    "print(dataLen * 0.8 , \" - 80%\")\n",
    "print(dataLen * 0.20 , \" - 20%\")\n",
    "\n",
    "\n",
    "\n",
    "dataTraining = dataset.iloc[0: int(dataLen * 0.80)]\n",
    "print(dataTraining)\n",
    "\n",
    "dataTest = dataset.iloc[int(dataLen * 0.80): dataLen]\n",
    "print(dataTest)\n"
   ]
  },
  {
   "cell_type": "markdown",
   "metadata": {},
   "source": [
    "## 3. Exploración de datos"
   ]
  },
  {
   "cell_type": "code",
   "execution_count": 6,
   "metadata": {},
   "outputs": [
    {
     "data": {
      "text/html": [
       "<div>\n",
       "<style scoped>\n",
       "    .dataframe tbody tr th:only-of-type {\n",
       "        vertical-align: middle;\n",
       "    }\n",
       "\n",
       "    .dataframe tbody tr th {\n",
       "        vertical-align: top;\n",
       "    }\n",
       "\n",
       "    .dataframe thead th {\n",
       "        text-align: right;\n",
       "    }\n",
       "</style>\n",
       "<table border=\"1\" class=\"dataframe\">\n",
       "  <thead>\n",
       "    <tr style=\"text-align: right;\">\n",
       "      <th></th>\n",
       "      <th>SalePrice</th>\n",
       "      <th>OverallQual</th>\n",
       "      <th>1stFlrSF</th>\n",
       "      <th>TotRmsAbvGrd</th>\n",
       "      <th>YearBuilt</th>\n",
       "      <th>LotFrontage</th>\n",
       "    </tr>\n",
       "  </thead>\n",
       "  <tbody>\n",
       "    <tr>\n",
       "      <th>0</th>\n",
       "      <td>208500.0</td>\n",
       "      <td>7.0</td>\n",
       "      <td>856.0</td>\n",
       "      <td>8.0</td>\n",
       "      <td>2003.0</td>\n",
       "      <td>65.0</td>\n",
       "    </tr>\n",
       "    <tr>\n",
       "      <th>1</th>\n",
       "      <td>181500.0</td>\n",
       "      <td>6.0</td>\n",
       "      <td>1262.0</td>\n",
       "      <td>6.0</td>\n",
       "      <td>1976.0</td>\n",
       "      <td>80.0</td>\n",
       "    </tr>\n",
       "    <tr>\n",
       "      <th>2</th>\n",
       "      <td>223500.0</td>\n",
       "      <td>7.0</td>\n",
       "      <td>920.0</td>\n",
       "      <td>6.0</td>\n",
       "      <td>2001.0</td>\n",
       "      <td>68.0</td>\n",
       "    </tr>\n",
       "    <tr>\n",
       "      <th>3</th>\n",
       "      <td>140000.0</td>\n",
       "      <td>7.0</td>\n",
       "      <td>961.0</td>\n",
       "      <td>7.0</td>\n",
       "      <td>1915.0</td>\n",
       "      <td>60.0</td>\n",
       "    </tr>\n",
       "    <tr>\n",
       "      <th>4</th>\n",
       "      <td>250000.0</td>\n",
       "      <td>8.0</td>\n",
       "      <td>1145.0</td>\n",
       "      <td>9.0</td>\n",
       "      <td>2000.0</td>\n",
       "      <td>84.0</td>\n",
       "    </tr>\n",
       "  </tbody>\n",
       "</table>\n",
       "</div>"
      ],
      "text/plain": [
       "   SalePrice  OverallQual  1stFlrSF  TotRmsAbvGrd  YearBuilt  LotFrontage\n",
       "0   208500.0          7.0     856.0           8.0     2003.0         65.0\n",
       "1   181500.0          6.0    1262.0           6.0     1976.0         80.0\n",
       "2   223500.0          7.0     920.0           6.0     2001.0         68.0\n",
       "3   140000.0          7.0     961.0           7.0     1915.0         60.0\n",
       "4   250000.0          8.0    1145.0           9.0     2000.0         84.0"
      ]
     },
     "execution_count": 6,
     "metadata": {},
     "output_type": "execute_result"
    }
   ],
   "source": [
    "dataTraining.head()"
   ]
  },
  {
   "cell_type": "code",
   "execution_count": 7,
   "metadata": {},
   "outputs": [
    {
     "data": {
      "text/plain": [
       "SalePrice       float64\n",
       "OverallQual     float64\n",
       "1stFlrSF        float64\n",
       "TotRmsAbvGrd    float64\n",
       "YearBuilt       float64\n",
       "LotFrontage     float64\n",
       "dtype: object"
      ]
     },
     "execution_count": 7,
     "metadata": {},
     "output_type": "execute_result"
    }
   ],
   "source": [
    "dataTraining.dtypes"
   ]
  },
  {
   "cell_type": "code",
   "execution_count": 8,
   "metadata": {},
   "outputs": [
    {
     "data": {
      "text/plain": [
       "(1168, 6)"
      ]
     },
     "execution_count": 8,
     "metadata": {},
     "output_type": "execute_result"
    }
   ],
   "source": [
    "dataTraining.shape\n",
    "#(filas, columnas)"
   ]
  },
  {
   "cell_type": "code",
   "execution_count": 9,
   "metadata": {},
   "outputs": [
    {
     "name": "stdout",
     "output_type": "stream",
     "text": [
      "           SalePrice  OverallQual     1stFlrSF  TotRmsAbvGrd    YearBuilt  \\\n",
      "count    1168.000000  1168.000000  1168.000000   1168.000000  1168.000000   \n",
      "mean   180590.277397     6.101027  1156.323630      6.485445  1971.451199   \n",
      "std     78815.697902     1.378025   373.780374      1.609141    29.951707   \n",
      "min     34900.000000     1.000000   334.000000      2.000000  1875.000000   \n",
      "25%    129900.000000     5.000000   882.000000      5.000000  1954.000000   \n",
      "50%    162950.000000     6.000000  1086.000000      6.000000  1973.000000   \n",
      "75%    214000.000000     7.000000  1390.250000      7.000000  2000.000000   \n",
      "max    755000.000000    10.000000  3228.000000     14.000000  2010.000000   \n",
      "\n",
      "       LotFrontage  \n",
      "count   962.000000  \n",
      "mean     69.946985  \n",
      "std      23.478161  \n",
      "min      21.000000  \n",
      "25%      59.000000  \n",
      "50%      70.000000  \n",
      "75%      80.000000  \n",
      "max     313.000000  \n",
      "\n",
      "Rango\n",
      "SalePrice       720100.0\n",
      "OverallQual          9.0\n",
      "1stFlrSF          2894.0\n",
      "TotRmsAbvGrd        12.0\n",
      "YearBuilt          135.0\n",
      "LotFrontage        292.0\n",
      "dtype: float64\n",
      "\n",
      "Correlaciones con SalePrice\n",
      "SalePrice       1.000000\n",
      "OverallQual     0.793990\n",
      "1stFlrSF        0.616289\n",
      "TotRmsAbvGrd    0.564707\n",
      "YearBuilt       0.534171\n",
      "LotFrontage     0.363292\n",
      "Name: SalePrice, dtype: float64\n"
     ]
    }
   ],
   "source": [
    "#variables dataset\n",
    "\n",
    "describeall = dataTraining.describe()\n",
    "\n",
    "print(describeall)\n",
    "\n",
    "\n",
    "print('')\n",
    "\n",
    "print('Rango')\n",
    "print((describeall.loc['max'] - describeall.loc['min']))\n",
    "\n",
    "\n",
    "print('')\n",
    "print('Correlaciones con SalePrice')\n",
    "correlation = dataTraining.corr(method='pearson').loc['SalePrice']\n",
    "print(correlation )\n"
   ]
  },
  {
   "cell_type": "markdown",
   "metadata": {},
   "source": [
    "## 4. Histogramas para graficar variables (con Seaborn)"
   ]
  },
  {
   "cell_type": "code",
   "execution_count": 10,
   "metadata": {},
   "outputs": [
    {
     "data": {
      "text/plain": [
       "<seaborn.axisgrid.FacetGrid at 0x24381046bb0>"
      ]
     },
     "execution_count": 10,
     "metadata": {},
     "output_type": "execute_result"
    },
    {
     "data": {
      "image/png": "[encoded data removed]",
      "text/plain": [
       "<Figure size 360x360 with 1 Axes>"
      ]
     },
     "metadata": {
      "needs_background": "light"
     },
     "output_type": "display_data"
    }
   ],
   "source": [
    "sns.displot(dataTraining.OverallQual)"
   ]
  },
  {
   "cell_type": "code",
   "execution_count": 11,
   "metadata": {},
   "outputs": [
    {
     "data": {
      "text/plain": [
       "<seaborn.axisgrid.FacetGrid at 0x24381046df0>"
      ]
     },
     "execution_count": 11,
     "metadata": {},
     "output_type": "execute_result"
    },
    {
     "data": {
      "image/png": "[encoded data removed]",
      "text/plain": [
       "<Figure size 360x360 with 1 Axes>"
      ]
     },
     "metadata": {
      "needs_background": "light"
     },
     "output_type": "display_data"
    }
   ],
   "source": [
    "sns.displot(dataTraining['1stFlrSF'])"
   ]
  },
  {
   "cell_type": "code",
   "execution_count": 12,
   "metadata": {},
   "outputs": [
    {
     "data": {
      "text/plain": [
       "<seaborn.axisgrid.FacetGrid at 0x24381527ee0>"
      ]
     },
     "execution_count": 12,
     "metadata": {},
     "output_type": "execute_result"
    },
    {
     "data": {
      "image/png": "[encoded data removed]",
      "text/plain": [
       "<Figure size 360x360 with 1 Axes>"
      ]
     },
     "metadata": {
      "needs_background": "light"
     },
     "output_type": "display_data"
    }
   ],
   "source": [
    "sns.displot(dataTraining.TotRmsAbvGrd)"
   ]
  },
  {
   "cell_type": "code",
   "execution_count": 13,
   "metadata": {},
   "outputs": [
    {
     "data": {
      "text/plain": [
       "<seaborn.axisgrid.FacetGrid at 0x24381486a30>"
      ]
     },
     "execution_count": 13,
     "metadata": {},
     "output_type": "execute_result"
    },
    {
     "data": {
      "image/png": "[encoded data removed]",
      "text/plain": [
       "<Figure size 360x360 with 1 Axes>"
      ]
     },
     "metadata": {
      "needs_background": "light"
     },
     "output_type": "display_data"
    }
   ],
   "source": [
    "sns.displot(dataTraining.YearBuilt)"
   ]
  },
  {
   "cell_type": "code",
   "execution_count": 14,
   "metadata": {},
   "outputs": [
    {
     "data": {
      "text/plain": [
       "<seaborn.axisgrid.FacetGrid at 0x2438164a4c0>"
      ]
     },
     "execution_count": 14,
     "metadata": {},
     "output_type": "execute_result"
    },
    {
     "data": {
      "image/png": "[encoded data removed]",
      "text/plain": [
       "<Figure size 360x360 with 1 Axes>"
      ]
     },
     "metadata": {
      "needs_background": "light"
     },
     "output_type": "display_data"
    }
   ],
   "source": [
    "sns.displot(dataTraining.LotFrontage)"
   ]
  },
  {
   "cell_type": "markdown",
   "metadata": {},
   "source": [
    "## 5. Scatter Plots con sus coeficientes de correlación"
   ]
  },
  {
   "cell_type": "code",
   "execution_count": 15,
   "metadata": {},
   "outputs": [
    {
     "data": {
      "image/png": "[encoded data removed]",
      "text/plain": [
       "<Figure size 432x288 with 1 Axes>"
      ]
     },
     "metadata": {
      "needs_background": "light"
     },
     "output_type": "display_data"
    }
   ],
   "source": [
    "plt.scatter(dataTraining['OverallQual'], dataTraining['SalePrice'])\n",
    "plt.title('Correlación = ' + str(correlation['OverallQual']))\n",
    "plt.xlabel(\"OverallQual\")\n",
    "plt.ylabel(\"SalePrice\")\n",
    "plt.show()"
   ]
  },
  {
   "cell_type": "code",
   "execution_count": 16,
   "metadata": {},
   "outputs": [
    {
     "data": {
      "image/png": "[encoded data removed]",
      "text/plain": [
       "<Figure size 432x288 with 1 Axes>"
      ]
     },
     "metadata": {
      "needs_background": "light"
     },
     "output_type": "display_data"
    }
   ],
   "source": [
    "plt.scatter(dataTraining['1stFlrSF'], dataTraining['SalePrice'])\n",
    "plt.title('Correlación = ' + str(correlation['1stFlrSF']))\n",
    "plt.xlabel(\"1stFlrSF\")\n",
    "plt.ylabel(\"SalePrice\")\n",
    "plt.show()"
   ]
  },
  {
   "cell_type": "code",
   "execution_count": 17,
   "metadata": {},
   "outputs": [
    {
     "data": {
      "text/plain": [
       "<function matplotlib.pyplot.show(close=None, block=None)>"
      ]
     },
     "execution_count": 17,
     "metadata": {},
     "output_type": "execute_result"
    },
    {
     "data": {
      "image/png": "[encoded data removed]",
      "text/plain": [
       "<Figure size 432x288 with 1 Axes>"
      ]
     },
     "metadata": {
      "needs_background": "light"
     },
     "output_type": "display_data"
    }
   ],
   "source": [
    "plt.scatter(dataTraining['TotRmsAbvGrd'], dataTraining['SalePrice'])\n",
    "plt.title('Correlación = ' + str(correlation['TotRmsAbvGrd']))\n",
    "plt.xlabel(\"TotRmsAbvGrd\")\n",
    "plt.ylabel(\"SalePrice\")\n",
    "plt.show"
   ]
  },
  {
   "cell_type": "code",
   "execution_count": 18,
   "metadata": {},
   "outputs": [
    {
     "data": {
      "image/png": "[encoded data removed]",
      "text/plain": [
       "<Figure size 432x288 with 1 Axes>"
      ]
     },
     "metadata": {
      "needs_background": "light"
     },
     "output_type": "display_data"
    }
   ],
   "source": [
    "plt.scatter(dataTraining['YearBuilt'], dataTraining['SalePrice'])\n",
    "plt.title('Correlación = ' + str(correlation['YearBuilt']))\n",
    "plt.xlabel(\"YearBuilt\")\n",
    "plt.ylabel(\"SalePrice\")\n",
    "plt.show()"
   ]
  },
  {
   "cell_type": "code",
   "execution_count": 19,
   "metadata": {},
   "outputs": [
    {
     "data": {
      "image/png": "[encoded data removed]",
      "text/plain": [
       "<Figure size 432x288 with 1 Axes>"
      ]
     },
     "metadata": {
      "needs_background": "light"
     },
     "output_type": "display_data"
    }
   ],
   "source": [
    "plt.scatter(dataTraining['LotFrontage'], dataTraining['SalePrice'])\n",
    "plt.title('Correlación = ' + str(correlation['LotFrontage']))\n",
    "plt.xlabel(\"LotFrontage\")\n",
    "plt.ylabel(\"SalePrice\")\n",
    "plt.show()"
   ]
  },
  {
   "cell_type": "markdown",
   "metadata": {},
   "source": [
    "variables elegidas:\n",
    "\n",
    "1: OverallQual con corrcoef = 0.7940\n",
    "\n",
    "2: 1stFlrSF con corrcoef = 0.6163"
   ]
  },
  {
   "cell_type": "markdown",
   "metadata": {},
   "source": [
    "## 6 y 7. Crear la función para entrenar al modelo considerando todos los puntos del 7"
   ]
  },
  {
   "cell_type": "code",
   "execution_count": 20,
   "metadata": {},
   "outputs": [],
   "source": [
    "def training(x, y, epochs, imprimirErrorCada, learningRate=1):\n",
    "    errors = []\n",
    "    betas = []\n",
    "    betas.append([0,0]) # Inicializamos los betas con b1 = 1, b0 = 0\n",
    "        \n",
    "     #Creamos la matriz\n",
    "    ones = np.ones_like(x)\n",
    "    xMatrix = np.stack([x, ones], axis=1)\n",
    "    i = 0\n",
    "    while(i <= epochs):\n",
    "        i +=1\n",
    "        \n",
    "        # Calculamos el \"y\" estimado\n",
    "        yPredict = []\n",
    "        yPredict = np.dot(xMatrix, betas[-1])\n",
    "        \n",
    "        \n",
    "        # Calculamos el error\n",
    "        error = sum( (y - yPredict)**2 ) / (2*yPredict.shape[0])\n",
    "        errors.append(error)\n",
    "\n",
    "        # calculamos el gradiente del error de cada beta\n",
    "        gradient = np.dot( (yPredict - y), xMatrix ) / (yPredict.shape[0])\n",
    "\n",
    "        # Calculamos los nuevos betas y los agregamos al arreglo\n",
    "        newBetas1 = betas[-1][0] - (learningRate * gradient[0])\n",
    "        newBetas0 = betas[-1][1] - (learningRate * gradient[1])\n",
    "        betas.append([newBetas1, newBetas0])\n",
    "        \n",
    "        # Imprimimos cada imprimirErrorCada veces\n",
    "        if(i%imprimirErrorCada == 0):\n",
    "            print( \"error: \" + str(error) )\n",
    "\n",
    "    \n",
    "    # Devolvemos los betas y los errores\n",
    "    return {'betas': betas, 'errors': errors}"
   ]
  },
  {
   "cell_type": "code",
   "execution_count": 21,
   "metadata": {},
   "outputs": [],
   "source": [
    "def plotErrors(errors):\n",
    "    errorsDf = pd.DataFrame(errors)\n",
    "    plt.plot(errorsDf.index.tolist(), errorsDf[0].tolist(), color='red', marker='o', linestyle='dashed')\n",
    "    plt.xlabel('Iteración')\n",
    "    plt.ylabel('Error')"
   ]
  },
  {
   "cell_type": "code",
   "execution_count": 22,
   "metadata": {},
   "outputs": [],
   "source": [
    "def plotFunction(dataX, dataY, betas, n):\n",
    "    # Graficar los datos de entrenamiento\n",
    "    colors = \"bgrmykc\"\n",
    "    colorMaxIndex = 6\n",
    "    plt.scatter(dataX, dataY,  c=colors[colorMaxIndex])\n",
    "    \n",
    "    #Graficar los betas\n",
    "    ones = np.ones_like(dataX)\n",
    "    xMatrix = np.stack([dataX, ones], axis=1)\n",
    "    iterations = list(range(0, len(betas), n))\n",
    "    i = 0\n",
    "    while i < len(iterations):\n",
    "        colorIndex = i%colorMaxIndex\n",
    "        yPredict = np.dot(xMatrix, betas[iterations[i]])\n",
    "        plt.scatter(dataX, yPredict,  c=colors[colorIndex], label=('iteration ' + str(i + 1) ))\n",
    "        \n",
    "        i += 1\n",
    "    plt.legend()\n",
    "        \n",
    "\n",
    "\n",
    "    "
   ]
  },
  {
   "cell_type": "markdown",
   "metadata": {},
   "source": [
    "## 7.2 Entrenar los modelos con las funciones creadas"
   ]
  },
  {
   "cell_type": "markdown",
   "metadata": {},
   "source": [
    "### Modelo 1: OverallQual"
   ]
  },
  {
   "cell_type": "code",
   "execution_count": 23,
   "metadata": {},
   "outputs": [
    {
     "name": "stdout",
     "output_type": "stream",
     "text": [
      "error: 120502547628807.58\n",
      "error: 7.289350476868438e+18\n",
      "error: 4.409470367829417e+23\n",
      "error: 2.667374684497858e+28\n"
     ]
    },
    {
     "data": {
      "image/png": "[encoded data removed]",
      "text/plain": [
       "<Figure size 432x288 with 1 Axes>"
      ]
     },
     "metadata": {
      "needs_background": "light"
     },
     "output_type": "display_data"
    }
   ],
   "source": [
    "# Comenzamos con valores pequeños\n",
    "x1 = dataTraining['OverallQual'].values\n",
    "y1 = dataTraining['SalePrice'].values\n",
    "\n",
    "results = training(x=x1, y=y1, epochs=20, imprimirErrorCada=5, learningRate=0.1)\n",
    "plotErrors( results['errors'] )\n",
    "\n",
    "# Nos damos cuenta que cada vez el error van aumentando"
   ]
  },
  {
   "cell_type": "code",
   "execution_count": 24,
   "metadata": {},
   "outputs": [
    {
     "name": "stdout",
     "output_type": "stream",
     "text": [
      "error: 3.106603191922864e+20\n",
      "error: 1.941339838776433e+33\n",
      "error: 1.2131579531739768e+46\n",
      "error: 7.581115835323809e+58\n"
     ]
    },
    {
     "data": {
      "image/png": "[encoded data removed]",
      "text/plain": [
       "<Figure size 432x288 with 1 Axes>"
      ]
     },
     "metadata": {
      "needs_background": "light"
     },
     "output_type": "display_data"
    }
   ],
   "source": [
    "# aumentamos el valor learningRate\n",
    "results = training(x=x1, y=y1, epochs=20, imprimirErrorCada=5, learningRate=0.5)\n",
    "plotErrors( results['errors'] )\n",
    "# El error es todavía más grande"
   ]
  },
  {
   "cell_type": "code",
   "execution_count": 25,
   "metadata": {},
   "outputs": [
    {
     "name": "stdout",
     "output_type": "stream",
     "text": [
      "error: 1693499585.3201873\n",
      "error: 1394454395.523841\n",
      "error: 1391513812.4658074\n",
      "error: 1390347591.754983\n"
     ]
    },
    {
     "data": {
      "image/png": "[encoded data removed]",
      "text/plain": [
       "<Figure size 432x288 with 1 Axes>"
      ]
     },
     "metadata": {
      "needs_background": "light"
     },
     "output_type": "display_data"
    }
   ],
   "source": [
    "# Disminuimos el valor learningRate\n",
    "results = training(x=x1, y=y1, epochs=20, imprimirErrorCada=5, learningRate=0.01)\n",
    "plotErrors( results['errors'] )\n",
    "# Vemos como con un valor muy pequeño de learningRate el error comienza a disminuir"
   ]
  },
  {
   "cell_type": "code",
   "execution_count": 26,
   "metadata": {},
   "outputs": [
    {
     "name": "stdout",
     "output_type": "stream",
     "text": [
      "error: 1243133294.591419\n",
      "error: 1184232714.1805434\n",
      "error: 1161388918.5757\n",
      "error: 1152529260.58938\n",
      "error: 1149093161.7469497\n",
      "error: 1147760517.160311\n",
      "error: 1147243668.9333708\n",
      "error: 1147043216.3202968\n",
      "error: 1146965473.4782102\n",
      "error: 1146935321.9655795\n"
     ]
    },
    {
     "data": {
      "image/png": "[encoded data removed]",
      "text/plain": [
       "<Figure size 432x288 with 1 Axes>"
      ]
     },
     "metadata": {
      "needs_background": "light"
     },
     "output_type": "display_data"
    }
   ],
   "source": [
    "# Realizamos más iteraciones\n",
    "results = training(x=x1, y=y1, epochs=10000, imprimirErrorCada=1000, learningRate=0.01)\n",
    "plotErrors( results['errors'] )\n",
    "# A partir de la iteración 60000, aproximadamente, el error ya no disminure tanto"
   ]
  },
  {
   "cell_type": "code",
   "execution_count": 27,
   "metadata": {},
   "outputs": [
    {
     "name": "stdout",
     "output_type": "stream",
     "text": [
      "error: 1243133294.591419\n",
      "error: 1184232714.1805434\n",
      "error: 1161388918.5757\n",
      "error: 1152529260.58938\n",
      "error: 1149093161.7469497\n",
      "error: 1147760517.160311\n",
      "error: 1147243668.9333708\n",
      "error: 1147043216.3202968\n",
      "error: 1146965473.4782102\n",
      "error: 1146935321.9655795\n"
     ]
    },
    {
     "data": {
      "image/png": "[encoded data removed]",
      "text/plain": [
       "<Figure size 432x288 with 1 Axes>"
      ]
     },
     "metadata": {
      "needs_background": "light"
     },
     "output_type": "display_data"
    }
   ],
   "source": [
    "results = training(x=x1, y=y1, epochs=10000, imprimirErrorCada=1000, learningRate=0.01)\n",
    "plotFunction(x1, y1, results['betas'], 2500)\n",
    "# vemos como las iteraciones de la dos en adelante son muy parecidas"
   ]
  },
  {
   "cell_type": "markdown",
   "metadata": {},
   "source": [
    "### Modelo 2: 1stFlrSF"
   ]
  },
  {
   "cell_type": "code",
   "execution_count": 28,
   "metadata": {},
   "outputs": [
    {
     "name": "stderr",
     "output_type": "stream",
     "text": [
      "<ipython-input-20-d6bde9d87378>:19: RuntimeWarning: overflow encountered in square\n",
      "  error = sum( (y - yPredict)**2 ) / (2*yPredict.shape[0])\n",
      "<ipython-input-20-d6bde9d87378>:26: RuntimeWarning: invalid value encountered in double_scalars\n",
      "  newBetas1 = betas[-1][0] - (learningRate * gradient[0])\n",
      "<ipython-input-20-d6bde9d87378>:27: RuntimeWarning: invalid value encountered in double_scalars\n",
      "  newBetas0 = betas[-1][1] - (learningRate * gradient[1])\n"
     ]
    },
    {
     "name": "stdout",
     "output_type": "stream",
     "text": [
      "error: nan\n",
      "error: nan\n",
      "error: nan\n",
      "error: nan\n",
      "error: nan\n",
      "error: nan\n",
      "error: nan\n",
      "error: nan\n",
      "error: nan\n",
      "error: nan\n"
     ]
    }
   ],
   "source": [
    "# Cuidado! Tenemos que sacar los nan s para que pueda operar\n",
    "\n",
    "#Vamos a utilizar los mismos valores para entrenar el modelo de LotFrontage\n",
    "dataTraining2 = dataTraining\n",
    "dataTraining2 = dataTraining2[pd.notna(dataTraining2['1stFlrSF'])]\n",
    "x2 = dataTraining2['1stFlrSF'].values\n",
    "y2 = dataTraining2['SalePrice'].values\n",
    "results2 = training(x=x2, y=y2, epochs=10000, imprimirErrorCada=1000, learningRate=0.01)\n",
    "\n",
    "# El modelo no converge"
   ]
  },
  {
   "cell_type": "code",
   "execution_count": 29,
   "metadata": {},
   "outputs": [
    {
     "name": "stdout",
     "output_type": "stream",
     "text": [
      "error: 7.508416822335341e+21\n",
      "error: 6.780859705831177e+34\n",
      "error: 6.123802052838697e+47\n",
      "error: 5.5304125449023175e+60\n",
      "error: 4.994521810618503e+73\n",
      "error: 4.5105582837101734e+86\n",
      "error: 4.0734902763848246e+99\n",
      "error: 3.678773665718586e+112\n",
      "error: 3.3223046491705893e+125\n",
      "error: 3.0003770780349375e+138\n"
     ]
    },
    {
     "data": {
      "image/png": "[encoded data removed]",
      "text/plain": [
       "<Figure size 432x288 with 1 Axes>"
      ]
     },
     "metadata": {
      "needs_background": "light"
     },
     "output_type": "display_data"
    }
   ],
   "source": [
    "#Vamos a disminuir el learningRate y reducir el número de iteraciones\n",
    "dataTraining2 = dataTraining\n",
    "dataTraining2 = dataTraining2[pd.notna(dataTraining2['LotFrontage'])]\n",
    "x2 = dataTraining2['LotFrontage'].values\n",
    "y2 = dataTraining2['SalePrice'].values\n",
    "results2 = training(x=x2, y=y2, epochs=100, imprimirErrorCada=10, learningRate=0.001)\n",
    "plotErrors( results2['errors'] )\n",
    "\n",
    "# El modelo no converge, no nos da error, pero nos damos cuenta que nunca se va a llegar a estabilizar"
   ]
  },
  {
   "cell_type": "code",
   "execution_count": 31,
   "metadata": {},
   "outputs": [
    {
     "name": "stdout",
     "output_type": "stream",
     "text": [
      "error: 3427363641.405282\n",
      "error: 3427267618.892373\n",
      "error: 3427183353.429665\n",
      "error: 3427099105.0132604\n",
      "error: 3427014873.6379623\n",
      "error: 3426930659.300334\n",
      "error: 3426846461.9969234\n",
      "error: 3426762281.724287\n",
      "error: 3426678118.4789796\n",
      "error: 3426593972.257553\n"
     ]
    },
    {
     "data": {
      "image/png": "[encoded data removed]",
      "text/plain": [
       "<Figure size 432x288 with 1 Axes>"
      ]
     },
     "metadata": {
      "needs_background": "light"
     },
     "output_type": "display_data"
    }
   ],
   "source": [
    "#Vamos a disminuir el learningRate\n",
    "dataTraining2 = dataTraining\n",
    "dataTraining2 = dataTraining2[pd.notna(dataTraining2['LotFrontage'])]\n",
    "x2 = dataTraining2['LotFrontage'].values\n",
    "y2 = dataTraining2['SalePrice'].values\n",
    "results2 = training(x=x2, y=y2, epochs=100, imprimirErrorCada=10, learningRate=0.0001)\n",
    "plotErrors( results2['errors'] )\n",
    "\n",
    "# Nos damos cuenta que el modelo comienza a converger"
   ]
  },
  {
   "cell_type": "code",
   "execution_count": 32,
   "metadata": {},
   "outputs": [
    {
     "name": "stdout",
     "output_type": "stream",
     "text": [
      "error: 3419090094.645331\n",
      "error: 3410911127.67753\n",
      "error: 3402895952.919628\n",
      "error: 3395041290.2644897\n",
      "error: 3387343925.2924666\n",
      "error: 3379800707.955981\n",
      "error: 3372408551.2903924\n",
      "error: 3365164430.1506734\n",
      "error: 3358065379.9734607\n",
      "error: 3351108495.563795\n"
     ]
    },
    {
     "data": {
      "image/png": "[encoded data removed]",
      "text/plain": [
       "<Figure size 432x288 with 1 Axes>"
      ]
     },
     "metadata": {
      "needs_background": "light"
     },
     "output_type": "display_data"
    }
   ],
   "source": [
    "#Aumentamos el número de iteraciones\n",
    "dataTraining2 = dataTraining\n",
    "dataTraining2 = dataTraining2[pd.notna(dataTraining2['LotFrontage'])]\n",
    "x2 = dataTraining2['LotFrontage'].values\n",
    "y2 = dataTraining2['SalePrice'].values\n",
    "results2 = training(x=x2, y=y2, epochs=10000, imprimirErrorCada=1000, learningRate=0.0001)\n",
    "plotErrors( results2['errors'] )\n",
    "\n",
    "# Nos damos cuenta que el modelo comienza a converger"
   ]
  },
  {
   "cell_type": "code",
   "execution_count": 33,
   "metadata": {},
   "outputs": [
    {
     "data": {
      "image/png": "[encoded data removed]",
      "text/plain": [
       "<Figure size 432x288 with 1 Axes>"
      ]
     },
     "metadata": {
      "needs_background": "light"
     },
     "output_type": "display_data"
    }
   ],
   "source": [
    "plotFunction(x2, y2, results2['betas'], 2500)"
   ]
  },
  {
   "cell_type": "markdown",
   "metadata": {},
   "source": [
    "## 7.3 Entrenar los modelos sklearn"
   ]
  },
  {
   "cell_type": "code",
   "execution_count": 34,
   "metadata": {},
   "outputs": [
    {
     "name": "stdout",
     "output_type": "stream",
     "text": [
      "-96469.57131873982 45411.998779159156\n",
      "-95582.8848827753\n",
      "45273.54600365441\n"
     ]
    }
   ],
   "source": [
    "lm1 = LinearRegression()\n",
    "x1rs = x1.reshape(-1,1)\n",
    "y1rs = y1.reshape(-1,1)\n",
    "\n",
    "lm2 = LinearRegression()\n",
    "x2rs = x2.reshape(-1,1)\n",
    "y2rs = y2.reshape(-1,1)\n",
    "\n",
    "lm1.fit(x1rs, y1rs)\n",
    "lm2.fit(x2rs, y2rs)\n",
    "\n",
    "b1m1 = lm1.coef_\n",
    "b0m1 = lm1.intercept_\n",
    "\n",
    "b1m2 = lm2.coef_\n",
    "b0m2 = lm2.intercept_\n",
    "\n",
    "\n",
    "print(b0m1[0], b1m1[0][0] )\n",
    "print( results['betas'][-1][1])\n",
    "print( results['betas'][-1][0])\n",
    "\n"
   ]
  },
  {
   "cell_type": "markdown",
   "metadata": {},
   "source": [
    "## 7.4 Usar el modelo entrenado por nuestra función y por skleand"
   ]
  },
  {
   "cell_type": "code",
   "execution_count": 35,
   "metadata": {},
   "outputs": [],
   "source": [
    "def useFunctions(x, b0sk, b1sk, b0mf, b1mf, vector ):\n",
    "    \n",
    "    ones = np.ones_like(x)\n",
    "    xMatrix = np.stack([x, ones], axis=1)    \n",
    "    ySkPredict = np.dot(xMatrix, [b1sk, b0sk])\n",
    "    yMyPredict = np.dot(xMatrix, [b1mf, b0mf])\n",
    "        \n",
    "    ySkPredict = ySkPredict[0: len(vector)]\n",
    "    yMyPredict = yMyPredict[0: len(vector)]\n",
    "    \n",
    "    yprom = (yMyPredict + ySkPredict)/2\n",
    "    \n",
    "    return { \"myPredict\": yMyPredict, \"skPredict\": ySkPredict, \"prom\": yprom }"
   ]
  },
  {
   "cell_type": "code",
   "execution_count": 47,
   "metadata": {},
   "outputs": [],
   "source": [
    "xb1 = dataTest['OverallQual'].values\n",
    "yb1 = dataTest['SalePrice'].values\n",
    "\n",
    "dataTest2 = dataTest\n",
    "dataTest2 = dataTest2[pd.notna(dataTest2['LotFrontage'])]\n",
    "xb2 = dataTest2['LotFrontage'].values\n",
    "yb2 = dataTest2['SalePrice'].values\n",
    "\n",
    "\n",
    "use1 = useFunctions(xb1, b0m1[0], b1m1[0][0], results['betas'][-1][1], results['betas'][-1][0], list(range(0,292)) )\n",
    "use2 = useFunctions(xb2, b0m2[0], b1m2[0][0], results2['betas'][-1][1], results2['betas'][-1][0], list(range(0,292)) )\n",
    "\n",
    "\n",
    "# print(use1['myPredict'])\n",
    "# print(use1['skPredict'])\n",
    "# print(use1['prom'])\n",
    "\n",
    "# print(use2['myPredict'])\n",
    "# print(use2['skPredict'])\n",
    "# print(use2['prom'])"
   ]
  },
  {
   "cell_type": "code",
   "execution_count": 48,
   "metadata": {},
   "outputs": [
    {
     "name": "stdout",
     "output_type": "stream",
     "text": [
      "876352.0357516436\n"
     ]
    },
    {
     "data": {
      "text/plain": [
       "<matplotlib.collections.PathCollection at 0x24382aa49a0>"
      ]
     },
     "execution_count": 48,
     "metadata": {},
     "output_type": "execute_result"
    },
    {
     "data": {
      "image/png": "[encoded data removed]",
      "text/plain": [
       "<Figure size 432x288 with 1 Axes>"
      ]
     },
     "metadata": {
      "needs_background": "light"
     },
     "output_type": "display_data"
    }
   ],
   "source": [
    "#Error Mi modelo 1\n",
    "errorMy1 = sum( (use1['myPredict'] - yb1)**2 )\n",
    "print( math.sqrt(errorMy1) )\n",
    "plt.scatter(xb1, (use1['myPredict'] - yb1))"
   ]
  },
  {
   "cell_type": "code",
   "execution_count": 43,
   "metadata": {},
   "outputs": [
    {
     "name": "stdout",
     "output_type": "stream",
     "text": [
      "1360410.559396289\n"
     ]
    },
    {
     "data": {
      "text/plain": [
       "<matplotlib.collections.PathCollection at 0x24382e276a0>"
      ]
     },
     "execution_count": 43,
     "metadata": {},
     "output_type": "execute_result"
    },
    {
     "data": {
      "image/png": "[encoded data removed]",
      "text/plain": [
       "<Figure size 432x288 with 1 Axes>"
      ]
     },
     "metadata": {
      "needs_background": "light"
     },
     "output_type": "display_data"
    }
   ],
   "source": [
    "#Error Mi modelo 2\n",
    "errorMy2 = sum( (use2['myPredict'] - yb2)**2 )\n",
    "print( math.sqrt(errorMy2) )\n",
    "plt.scatter(xb2, (use2['myPredict'] - yb2))"
   ]
  },
  {
   "cell_type": "code",
   "execution_count": 44,
   "metadata": {},
   "outputs": [
    {
     "name": "stdout",
     "output_type": "stream",
     "text": [
      "876363.6926601892\n"
     ]
    },
    {
     "data": {
      "text/plain": [
       "<matplotlib.collections.PathCollection at 0x24382e79d00>"
      ]
     },
     "execution_count": 44,
     "metadata": {},
     "output_type": "execute_result"
    },
    {
     "data": {
      "image/png": "[encoded data removed]",
      "text/plain": [
       "<Figure size 432x288 with 1 Axes>"
      ]
     },
     "metadata": {
      "needs_background": "light"
     },
     "output_type": "display_data"
    }
   ],
   "source": [
    "#Error modelo SkLearn 1\n",
    "\n",
    "errorSk1 = sum( (use1['skPredict'] - yb1)**2 )\n",
    "print( math.sqrt(errorSk1) )\n",
    "plt.scatter(xb1, (use1['skPredict'] - yb1))"
   ]
  },
  {
   "cell_type": "code",
   "execution_count": 45,
   "metadata": {},
   "outputs": [
    {
     "name": "stdout",
     "output_type": "stream",
     "text": [
      "1234559.4001026065\n"
     ]
    },
    {
     "data": {
      "text/plain": [
       "<matplotlib.collections.PathCollection at 0x24382e41940>"
      ]
     },
     "execution_count": 45,
     "metadata": {},
     "output_type": "execute_result"
    },
    {
     "data": {
      "image/png": "[encoded data removed]",
      "text/plain": [
       "<Figure size 432x288 with 1 Axes>"
      ]
     },
     "metadata": {
      "needs_background": "light"
     },
     "output_type": "display_data"
    }
   ],
   "source": [
    "#Error modelo SkLearn 2\n",
    "errorSk2 = sum( (use2['skPredict'] - yb2)**2 )\n",
    "print( math.sqrt(errorSk2) )\n",
    "plt.scatter(xb2, (use2['skPredict'] - yb2))\n",
    "\n"
   ]
  },
  {
   "cell_type": "code",
   "execution_count": null,
   "metadata": {},
   "outputs": [],
   "source": [
    "# El mejor modelo fue el que construimos con OverallQual"
   ]
  },
  {
   "cell_type": "code",
   "execution_count": null,
   "metadata": {},
   "outputs": [],
   "source": []
  },
  {
   "cell_type": "code",
   "execution_count": null,
   "metadata": {},
   "outputs": [],
   "source": []
  },
  {
   "cell_type": "code",
   "execution_count": null,
   "metadata": {},
   "outputs": [],
   "source": []
  },
  {
   "cell_type": "code",
   "execution_count": null,
   "metadata": {},
   "outputs": [],
   "source": []
  },
  {
   "cell_type": "code",
   "execution_count": null,
   "metadata": {},
   "outputs": [],
   "source": []
  },
  {
   "cell_type": "code",
   "execution_count": null,
   "metadata": {},
   "outputs": [],
   "source": []
  },
  {
   "cell_type": "code",
   "execution_count": null,
   "metadata": {},
   "outputs": [],
   "source": []
  },
  {
   "cell_type": "code",
   "execution_count": null,
   "metadata": {},
   "outputs": [],
   "source": []
  },
  {
   "cell_type": "code",
   "execution_count": null,
   "metadata": {},
   "outputs": [],
   "source": []
  },
  {
   "cell_type": "code",
   "execution_count": null,
   "metadata": {},
   "outputs": [],
   "source": []
  },
  {
   "cell_type": "code",
   "execution_count": null,
   "metadata": {},
   "outputs": [],
   "source": []
  },
  {
   "cell_type": "code",
   "execution_count": null,
   "metadata": {},
   "outputs": [],
   "source": []
  },
  {
   "cell_type": "code",
   "execution_count": null,
   "metadata": {},
   "outputs": [],
   "source": []
  },
  {
   "cell_type": "code",
   "execution_count": null,
   "metadata": {},
   "outputs": [],
   "source": [
    "errorMy1 = use1['myPredict'] - "
   ]
  },
  {
   "cell_type": "code",
   "execution_count": 268,
   "metadata": {},
   "outputs": [
    {
     "name": "stdout",
     "output_type": "stream",
     "text": [
      "b0: -95582.46486131243, b1: 45273.480418871615\n"
     ]
    }
   ],
   "source": [
    "# parametros\n",
    "\n",
    "x = dataTraining['OverallQual'].values\n",
    "y = dataTraining['SalePrice'].values\n",
    "learning_rate = 0.01\n",
    "epoch = 10000\n",
    "b0 = 0\n",
    "b1 = 0\n",
    "n = len(x)\n",
    "\n",
    "for i in range(epoch):\n",
    "    yhat = b0 + b1 * x\n",
    "    gradb1 = 1/n*np.sum((yhat - y) * x)\n",
    "    gradb0 = 1/n*np.sum((yhat - y))\n",
    "    b0 = b0 - learning_rate*gradb0\n",
    "    b1 = b1 - learning_rate*gradb1\n",
    "\n",
    "print('b0: {}, b1: {}'.format(b0, b1))"
   ]
  },
  {
   "cell_type": "code",
   "execution_count": 255,
   "metadata": {},
   "outputs": [],
   "source": [
    "x = dataTraining['OverallQual'].values.reshape(-1,1)\n",
    "y = dataTraining['SalePrice'].values.reshape(-1,1)"
   ]
  },
  {
   "cell_type": "code",
   "execution_count": 226,
   "metadata": {},
   "outputs": [],
   "source": [
    "dataTrain, dataTest, dataTrain_Sales, dataTest_Sales = train_test_split(X, Y, test_size=0.2, shuffle=True, random_state=123)"
   ]
  },
  {
   "cell_type": "code",
   "execution_count": 227,
   "metadata": {},
   "outputs": [
    {
     "data": {
      "text/plain": [
       "LinearRegression()"
      ]
     },
     "execution_count": 227,
     "metadata": {},
     "output_type": "execute_result"
    }
   ],
   "source": [
    "lm1 = LinearRegression()\n",
    "lm1.fit(dataTrain, dataTrain_Sales)"
   ]
  },
  {
   "cell_type": "code",
   "execution_count": 230,
   "metadata": {},
   "outputs": [
    {
     "data": {
      "text/plain": [
       "array([[44991.37057353]])"
      ]
     },
     "execution_count": 230,
     "metadata": {},
     "output_type": "execute_result"
    }
   ],
   "source": [
    "# β1\n",
    "lm1.coef_"
   ]
  },
  {
   "cell_type": "code",
   "execution_count": 231,
   "metadata": {},
   "outputs": [
    {
     "data": {
      "text/plain": [
       "array([-95594.1953882])"
      ]
     },
     "execution_count": 231,
     "metadata": {},
     "output_type": "execute_result"
    }
   ],
   "source": [
    "# β0\n",
    "\n",
    "lm1.intercept_"
   ]
  },
  {
   "cell_type": "code",
   "execution_count": 242,
   "metadata": {},
   "outputs": [
    {
     "data": {
      "text/plain": [
       "<function matplotlib.pyplot.show(close=None, block=None)>"
      ]
     },
     "execution_count": 242,
     "metadata": {},
     "output_type": "execute_result"
    },
    {
     "data": {
      "image/png": "[encoded data removed]",
      "text/plain": [
       "<Figure size 432x288 with 1 Axes>"
      ]
     },
     "metadata": {},
     "output_type": "display_data"
    }
   ],
   "source": [
    "# modelo\n",
    "\n",
    "y_predict_from_train = lm1.predict(dataTrain)\n",
    "y_predict_from_train\n",
    "\n",
    "plt.scatter(dataTraining['OverallQual'], dataTraining['SalePrice'])\n",
    "plt.plot(dataTrain, y_predict_from_train, color=\"black\", linewidth=2)\n",
    "plt.title(\"SalePrice vs. OverallQual model\")\n",
    "plt.xlabel(\"OverallQual\")\n",
    "plt.ylabel(\"SalePrice\")\n",
    "plt.show"
   ]
  },
  {
   "cell_type": "code",
   "execution_count": 241,
   "metadata": {},
   "outputs": [
    {
     "data": {
      "text/plain": [
       "0.6314007722928174"
      ]
     },
     "execution_count": 241,
     "metadata": {},
     "output_type": "execute_result"
    }
   ],
   "source": [
    "# error\n",
    "\n",
    "lm1.score(dataTrain, dataTrain_Sales)"
   ]
  },
  {
   "cell_type": "code",
   "execution_count": 246,
   "metadata": {},
   "outputs": [
    {
     "data": {
      "text/plain": [
       "50526.68210610892"
      ]
     },
     "execution_count": 246,
     "metadata": {},
     "output_type": "execute_result"
    }
   ],
   "source": [
    "# rmse\n",
    "\n",
    "y_predicts_test = lm1.predict(dataTest)\n",
    "rmse = math.sqrt(metrics.mean_squared_error(dataTest_Sales, y_predicts_test))\n",
    "rmse"
   ]
  },
  {
   "cell_type": "code",
   "execution_count": 257,
   "metadata": {},
   "outputs": [
    {
     "data": {
      "text/plain": [
       "array([0., 0., 0., ..., 0., 0., 0.])"
      ]
     },
     "execution_count": 257,
     "metadata": {},
     "output_type": "execute_result"
    }
   ],
   "source": [
    "yhat"
   ]
  },
  {
   "cell_type": "code",
   "execution_count": null,
   "metadata": {},
   "outputs": [],
   "source": []
  }
 ],
 "metadata": {
  "kernelspec": {
   "display_name": "Python 3",
   "language": "python",
   "name": "python3"
  },
  "language_info": {
   "codemirror_mode": {
    "name": "ipython",
    "version": 3
   },
   "file_extension": ".py",
   "mimetype": "text/x-python",
   "name": "python",
   "nbconvert_exporter": "python",
   "pygments_lexer": "ipython3",
   "version": "3.8.5"
  }
 },
 "nbformat": 4,
 "nbformat_minor": 4
}
